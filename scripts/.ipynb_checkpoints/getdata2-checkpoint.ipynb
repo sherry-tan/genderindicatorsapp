{
 "cells": [
  {
   "cell_type": "code",
   "execution_count": null,
   "metadata": {},
   "outputs": [],
   "source": [
    "import numpy as np\n",
    "import pandas as pd\n",
    "import math\n"
   ]
  },
  {
   "cell_type": "code",
   "execution_count": null,
   "metadata": {},
   "outputs": [],
   "source": [
    "data2.dropna(axis=0, inplace=True) #extract only rows that contain country-region pairs for mapping with data1 \n",
    "data2=data2.iloc[1:] #drop blank first row"
   ]
  },
  {
   "cell_type": "code",
   "execution_count": 8,
   "metadata": {},
   "outputs": [
    {
     "name": "stdout",
     "output_type": "stream",
     "text": [
      "In the data set, there are 218 countries, 7 regions and 4 income types\n",
      "There are 505 indicators\n"
     ]
    }
   ],
   "source": [
    "countries = data2['Economy'].unique()\n",
    "regions= data2['Region'].unique()\n",
    "incomes = data2['Income group'].unique()\n",
    "indicators = data1['Indicator Name'].unique()\n"
   ]
  },
  {
   "cell_type": "code",
   "execution_count": 10,
   "metadata": {},
   "outputs": [],
   "source": [
    "#define function to create subsets of data of interest from data1 \n",
    "def subset_data(data, subset_group, start, end):\n",
    "\n",
    "    # subset data to include only subset group\n",
    "    df = data[data['Country Name'].isin(subset_group)]\n",
    "\n",
    "    #subset data to include only specified time frame\n",
    "    years_to_keep = [str(year) for year in list(range(start,end+1))]\n",
    "    cols_to_keep = ['Country Name','Indicator Name'] + years_to_keep\n",
    "    df = df[cols_to_keep]\n",
    "\n",
    "\n",
    "    # select indicators of interest, based on indicators explored in SG plots and indicators of interest\n",
    "    selected_indicators = ['GNI per capita, Atlas method (current US$)',\n",
    "    'Expected years of schooling, female',\n",
    "    'Expected years of schooling, male',\n",
    "    'Tertiary education, academic staff (% female)',\n",
    "    'Educational attainment, at least completed short-cycle tertiary, population 25+, female (%) (cumulative)',\n",
    "    'Educational attainment, at least completed short-cycle tertiary, population 25+, male (%) (cumulative)',\n",
    "    'Literacy rate, adult female (% of females ages 15 and above)',\n",
    "    'Literacy rate, adult male (% of males ages 15 and above)',\n",
    "    'School enrollment, tertiary (gross), gender parity index (GPI)',\n",
    "    'Proportion of women subjected to physical and/or sexual violence in the last 12 months (% of women age 15-49)',\n",
    "    'Female professional and technical workers (% of total)',\n",
    "    'Proportion of seats held by women in national parliaments (%)',\n",
    "    'Proportion of women in ministerial level positions (%)',\n",
    "    'Women participating in the three decisions (own health care, major household purchases, and visiting family) (% of women age 15-49)',\n",
    "    'Female headed households (% of households with a female head)',\n",
    "    'Women who were first married by age 18 (% of women ages 20-24)',\n",
    "    'Adolescent fertility rate (births per 1,000 women ages 15-19)',\n",
    "    'Fertility rate, total (births per woman)',\n",
    "    'Maternal leave benefits (% of wages paid)',\n",
    "    'Maternity leave (days paid)',\n",
    "    'Firms with female participation in ownership (% of firms)',\n",
    "    'Firms with female top manager (% of firms)',\n",
    "    'Female share of employment in senior and middle management (%)',\n",
    "    'Ratio of female to male labor force participation rate (%) (modeled ILO estimate)',\n",
    "    'Unemployment, female (% of female labor force) (modeled ILO estimate)',\n",
    "    'Unemployment, male (% of male labor force) (modeled ILO estimate)']\n",
    "\n",
    "    #subset data based on selected indicators\n",
    "    df = df[df['Indicator Name'].isin(selected_indicators)] \n",
    "\n",
    "    #get column names corresponding to years \n",
    "    years = [str(x) for x in range(start,end+1)]\n",
    "\n",
    "    # reshape df into df1: get indicators as column headers and years as observations. Exclude redundant columns such as country code and indicator code\n",
    "    df1 = pd.melt(df, id_vars=['Country Name','Indicator Name'], value_vars = years, \n",
    "            var_name='Year', value_name='Value')\n",
    "    df1 = df1.set_index(['Country Name','Year','Indicator Name']).unstack(level=-1)\n",
    "    df1.reset_index(inplace=True)\n",
    "    df1.columns = df1.columns.droplevel(0)\n",
    "    df1.columns = ['Country', 'Year']+(list(df1.columns[2:])) #rename columns\n",
    "\n",
    "    # create new variables for gender comparison - calculate the parity index\n",
    "    df1['Ratio of female to male tertiary educational attainment rate (GPI) (%)'] = 100*df1['Educational attainment, at least completed short-cycle tertiary, population 25+, female (%) (cumulative)']/df1['Educational attainment, at least completed short-cycle tertiary, population 25+, male (%) (cumulative)']\n",
    "    df1['Ratio of female to male expected years of schooling (%)'] = 100*df1['Expected years of schooling, female']/df1['Expected years of schooling, male']\n",
    "    df1['Literacy rate (ages 15 and above) (GPI)(%)'] = 100*df1['Literacy rate, adult female (% of females ages 15 and above)']/df1['Literacy rate, adult male (% of males ages 15 and above)']\n",
    "    df1.rename(columns={'Ratio of female to male labor force participation rate (%) (modeled ILO estimate)':\n",
    "                   'Labor force participation rate (ages 15 and above) (%) (GPI)'})\n",
    "    df1['Ratio of female to male unemployment (%)'] = 100*df1['Unemployment, female (% of female labor force) (modeled ILO estimate)']/df1['Unemployment, male (% of male labor force) (modeled ILO estimate)']\n",
    "    df1['School enrollment, tertiary (gross), gender parity index (GPI)(%)'] = 100 * df1['School enrollment, tertiary (gross), gender parity index (GPI)']\n",
    "    \n",
    "    #drop redundant columns\n",
    "    columns_to_drop = ['Expected years of schooling, female', \n",
    "                   'Expected years of schooling, male',\n",
    "                   'Educational attainment, at least completed short-cycle tertiary, population 25+, female (%) (cumulative)',\n",
    "                   'Educational attainment, at least completed short-cycle tertiary, population 25+, male (%) (cumulative)',\n",
    "                   'Literacy rate, adult female (% of females ages 15 and above)',\n",
    "                   'Literacy rate, adult male (% of males ages 15 and above)',\n",
    "                   'Unemployment, female (% of female labor force) (modeled ILO estimate)',\n",
    "                   'Unemployment, male (% of male labor force) (modeled ILO estimate)',\n",
    "                        'School enrollment, tertiary (gross), gender parity index (GPI)']\n",
    "\n",
    "    df1.drop(columns_to_drop, axis = 1, inplace=True)\n",
    "\n",
    "    #shorten column names\n",
    "    df1.columns = ['Country', 'Year',\n",
    "    'Adolescent fertility rate (per 1,000)',\n",
    "    'Proportion of households with female head (%)',\n",
    "    'Professional and technical workers (% female)',\n",
    "    'Employment in senior and middle management (% female)',\n",
    "    'Fertility rate',\n",
    "    'Firms with female participation in ownership (% of firms)',\n",
    "    'Firms with female top manager (% of firms)',\n",
    "    'GNI per capita(current US$)',\n",
    "    'Maternity leave (days paid)',\n",
    "    'National parliament seats (% female)',\n",
    "    'Ministerial level positions (% female)',\n",
    "    'Proportion of women subjected to physical/sexual violence in last 12 months (%)',\n",
    "    'Labor force participation rate (GPI) (%)',\n",
    "    'Tertiary education, academic staff (% female)',\n",
    "    'Proportion of women participating in the three decisions (%)',\n",
    "    'Women who were first married by age 18 (% of women ages 20-24)',\n",
    "    'Ratio of female to male tertiary educational attainment rate (GPI) (%)',\n",
    "    'Ratio of female to male expected years of schooling (%)',\n",
    "    'Literacy rate (ages 15 and above) (GPI)(%)',\n",
    "    'Ratio of female to male unemployment (%)',\n",
    "    'School enrollment, tertiary (gross),(GPI) (%)']\n",
    "    \n",
    "    #set year column to numeric and take log of GNI for comparability to other data as GNI values are of magnitudes larger than other indicators\n",
    "    df1['Year']=pd.to_numeric(df1['Year'])\n",
    "    df1['log(GNI)'] = df1['GNI per capita(current US$)'].apply(lambda x: math.log(x)) \n",
    "\n",
    "    return df1"
   ]
  },
  {
   "cell_type": "code",
   "execution_count": 11,
   "metadata": {},
   "outputs": [],
   "source": [
    "#define function to drop columns if the number of NaN values for that column exceed a threshold (i.e. beyond which it may be useless for scatter plot)\n",
    "def dropcols(data, threshold):\n",
    "\n",
    "    columns_to_drop = data.columns[(data.isnull().sum()/len(data)) > threshold]\n",
    "\n",
    "    return data.drop(columns_to_drop, axis=1)"
   ]
  },
  {
   "cell_type": "code",
   "execution_count": 12,
   "metadata": {},
   "outputs": [],
   "source": [
    "# get country gender data (Subset1)\n",
    "def country_data(data):\n",
    "    start = 2012\n",
    "    end = 2017\n",
    "    country_data = subset_data(data1,countries,start,end)\n",
    "\n",
    "    #map countries to geographical region (to facilitate scatterplot analysis), drop redundant columns\n",
    "    country_data = country_data.merge(data2[['Economy','Region']], how='left', left_on = 'Country', right_on = \"Economy\")\n",
    "    country_data.drop('Economy', inplace=True, axis=1) \n",
    "    \n",
    "    #fill NA values and sort by region (so the legend in plot is alphabetical)\n",
    "    #define new dataframe country_data_m for filled table\n",
    "    country_data_m = country_data.groupby('Country').apply(lambda x:x.fillna(method='pad')) \n",
    "    country_data_m.sort_values(by='Region', inplace=True)\n",
    "\n",
    "    # Drop indicators for which there are still many NaNs despite forward filling. \n",
    "    # Indicators with more than 50% NaN values are dropped as they will be less useful for scatterplots\n",
    "    threshold = 0.5\n",
    "    country_data_m = dropcols(country_data_m, threshold)\n",
    "    "
   ]
  },
  {
   "cell_type": "code",
   "execution_count": 17,
   "metadata": {},
   "outputs": [],
   "source": [
    "#fill NA values and sort by region (so the legend in plot is alphabetical)\n",
    "#define new dataframe country_data_m for filled table\n",
    "country_data_m = country_data.groupby('Country').apply(lambda x:x.fillna(method='pad')) \n",
    "country_data_m.sort_values(by='Region', inplace=True)\n",
    "\n",
    "# Drop indicators for which there are still many NaNs despite forward filling. \n",
    "# Indicators with more than 50% NaN values are dropped as they will be less useful for scatterplots\n",
    "threshold = 0.5\n",
    "country_data_m = dropcols(country_data_m, threshold)\n"
   ]
  },
  {
   "cell_type": "code",
   "execution_count": 18,
   "metadata": {},
   "outputs": [],
   "source": [
    "#define subset_group\n",
    "regions_incomes = np.append(regions, incomes)\n",
    "regions_incomes = np.append(regions_incomes, \"World\")\n",
    "\n",
    "#get cluster data\n",
    "start = 2001\n",
    "end = 2017\n",
    "cluster_data = subset_data(data1, regions_incomes, start, end)\n"
   ]
  },
  {
   "cell_type": "code",
   "execution_count": 20,
   "metadata": {},
   "outputs": [],
   "source": [
    "#drop indicators with more than 60% NaN values\n",
    "threshold = 0.6\n",
    "cluster_data = dropcols(cluster_data, threshold)\n",
    "\n",
    "clusters = cluster_data['Country'].unique()"
   ]
  },
  {
   "cell_type": "code",
   "execution_count": null,
   "metadata": {},
   "outputs": [],
   "source": []
  }
 ],
 "metadata": {
  "kernelspec": {
   "display_name": "Python 3",
   "language": "python",
   "name": "python3"
  },
  "language_info": {
   "codemirror_mode": {
    "name": "ipython",
    "version": 3
   },
   "file_extension": ".py",
   "mimetype": "text/x-python",
   "name": "python",
   "nbconvert_exporter": "python",
   "pygments_lexer": "ipython3",
   "version": "3.6.4"
  }
 },
 "nbformat": 4,
 "nbformat_minor": 2
}
