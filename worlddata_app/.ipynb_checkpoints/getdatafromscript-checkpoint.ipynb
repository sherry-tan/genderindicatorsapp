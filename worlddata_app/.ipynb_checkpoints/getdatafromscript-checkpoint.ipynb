{
 "cells": [
  {
   "cell_type": "code",
   "execution_count": 38,
   "metadata": {},
   "outputs": [],
   "source": [
    "import os\n",
    "import pandas as pd\n",
    "import numpy as np\n",
    "from bokeh.io import curdoc\n",
    "from bokeh.models.widgets import Tabs\n",
    "\n",
    "from scripts.transform import subset_data"
   ]
  },
  {
   "cell_type": "code",
   "execution_count": 39,
   "metadata": {},
   "outputs": [],
   "source": [
    "path = os.path.split(os.getcwd())[0]\n",
    "file1 = \"Gender_StatsEXCEL.xlsx\"\n",
    "file2 = \"CLASS.xls\"\n",
    "filepath1  = os.path.join(path,'data',file1)\n",
    "filepath2  = os.path.join(path,'data',file2)"
   ]
  },
  {
   "cell_type": "code",
   "execution_count": 40,
   "metadata": {},
   "outputs": [],
   "source": [
    "data1 = pd.read_excel(filepath1, sheet_name=0)\n",
    "data2 = pd.read_excel(filepath2, sheet_name=0, skiprows=4, usecols = [2,5,6])"
   ]
  },
  {
   "cell_type": "code",
   "execution_count": 41,
   "metadata": {},
   "outputs": [],
   "source": [
    "data2.dropna(axis=0, inplace=True) #extract only rows that contain country-region pairs for mapping with data1 \n",
    "data2=data2.iloc[1:] #drop blank first row"
   ]
  },
  {
   "cell_type": "code",
   "execution_count": 42,
   "metadata": {},
   "outputs": [],
   "source": [
    "countries = data2['Economy'].unique()\n",
    "regions= data2['Region'].unique()\n",
    "incomes = data2['Income group'].unique()\n",
    "regions_incomes = np.append(regions, incomes)\n",
    "regions_incomes = np.append(regions_incomes, \"World\")"
   ]
  },
  {
   "cell_type": "code",
   "execution_count": 43,
   "metadata": {},
   "outputs": [],
   "source": [
    "def dropcols(data, threshold):\n",
    "\n",
    "    columns_to_drop = data.columns[(data.isnull().sum()/len(data)) > threshold]\n",
    "\n",
    "    return data.drop(columns_to_drop, axis=1)"
   ]
  },
  {
   "cell_type": "code",
   "execution_count": 44,
   "metadata": {},
   "outputs": [],
   "source": [
    "# get country gender data for plotting by subsetting \n",
    "start = 2012\n",
    "end = 2017\n",
    "country_data = subset_data(data1,countries,start,end)\n",
    "\n",
    "#map countries to geographical region (to facilitate scatterplot analysis), drop redundant columns\n",
    "country_data = country_data.merge(data2[['Economy','Region']], how='left', left_on = 'Country', right_on = \"Economy\")\n",
    "country_data.drop('Economy', inplace=True, axis=1) \n",
    "\n",
    "#fill NA values and sort by region (so the legend in plot is alphabetical)\n",
    "#define new dataframe country_data_m for filled table\n",
    "country_data_m = country_data.groupby('Country').apply(lambda x:x.fillna(method='pad')) \n",
    "country_data_m.sort_values(by='Region', inplace=True)\n",
    "\n",
    "# Drop indicators for which there are still many NaNs despite forward filling. \n",
    "# Indicators with more than 50% NaN values are dropped as they will be less useful for scatterplots\n",
    "threshold = 0.5\n",
    "country_data_m = dropcols(country_data_m, threshold)"
   ]
  },
  {
   "cell_type": "code",
   "execution_count": 45,
   "metadata": {},
   "outputs": [],
   "source": [
    "# get cluster data by subsetting\n",
    "start = 2001\n",
    "end = 2017\n",
    "cluster_data = subset_data(data1, regions_incomes, start, end)\n",
    "\n",
    "#drop indicators with more than 60% NaN values\n",
    "threshold = 0.6\n",
    "cluster_data = dropcols(cluster_data, threshold)"
   ]
  },
  {
   "cell_type": "code",
   "execution_count": null,
   "metadata": {},
   "outputs": [],
   "source": []
  }
 ],
 "metadata": {
  "kernelspec": {
   "display_name": "Python 3",
   "language": "python",
   "name": "python3"
  },
  "language_info": {
   "codemirror_mode": {
    "name": "ipython",
    "version": 3
   },
   "file_extension": ".py",
   "mimetype": "text/x-python",
   "name": "python",
   "nbconvert_exporter": "python",
   "pygments_lexer": "ipython3",
   "version": "3.6.4"
  }
 },
 "nbformat": 4,
 "nbformat_minor": 2
}
